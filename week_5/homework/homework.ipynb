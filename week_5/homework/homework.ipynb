{
 "cells": [
  {
   "cell_type": "code",
   "execution_count": 1,
   "id": "e2086a6b",
   "metadata": {},
   "outputs": [],
   "source": [
    "import pyspark as ps\n",
    "from pyspark.sql import SparkSession as ss\n",
    "from pyspark.sql.types import StructType,StructField,IntegerType,StringType,TimestampType\n",
    "import pandas as pd"
   ]
  },
  {
   "cell_type": "code",
   "execution_count": 2,
   "id": "f887473b",
   "metadata": {},
   "outputs": [
    {
     "name": "stderr",
     "output_type": "stream",
     "text": [
      "WARNING: An illegal reflective access operation has occurred\n",
      "WARNING: Illegal reflective access by org.apache.spark.unsafe.Platform (file:/home/mide/spark/spark-3.0.3-bin-hadoop3.2/jars/spark-unsafe_2.12-3.0.3.jar) to constructor java.nio.DirectByteBuffer(long,int)\n",
      "WARNING: Please consider reporting this to the maintainers of org.apache.spark.unsafe.Platform\n",
      "WARNING: Use --illegal-access=warn to enable warnings of further illegal reflective access operations\n",
      "WARNING: All illegal access operations will be denied in a future release\n",
      "22/03/01 19:59:50 WARN NativeCodeLoader: Unable to load native-hadoop library for your platform... using builtin-java classes where applicable\n",
      "Using Spark's default log4j profile: org/apache/spark/log4j-defaults.properties\n",
      "Setting default log level to \"WARN\".\n",
      "To adjust logging level use sc.setLogLevel(newLevel). For SparkR, use setLogLevel(newLevel).\n"
     ]
    }
   ],
   "source": [
    "spark = ss.builder.master(\"local[*]\").appName(\"mide_spark\").getOrCreate()"
   ]
  },
  {
   "cell_type": "code",
   "execution_count": 3,
   "id": "ef524491",
   "metadata": {},
   "outputs": [
    {
     "data": {
      "text/plain": [
       "'3.0.3'"
      ]
     },
     "execution_count": 3,
     "metadata": {},
     "output_type": "execute_result"
    }
   ],
   "source": [
    "spark.version"
   ]
  },
  {
   "cell_type": "code",
   "execution_count": 4,
   "id": "511b1ebf",
   "metadata": {},
   "outputs": [],
   "source": [
    "path = '/home/mide/data-analytical-engineering/week_5/homework/'"
   ]
  },
  {
   "cell_type": "code",
   "execution_count": 5,
   "id": "540f4931",
   "metadata": {},
   "outputs": [],
   "source": [
    "schema = StructType([\n",
    "    StructField('hvfhs_license_num',StringType(),True),\n",
    "    StructField('dispatching_base_num',StringType(),True),\n",
    "    StructField('pickup_datetime',TimestampType(),True),\n",
    "    StructField('dropoff_datetime',TimestampType(),True),\n",
    "    StructField('PULocationID',IntegerType(),True),\n",
    "    StructField('DOLocationID',IntegerType(),True),\n",
    "    StructField('SR_Flag',StringType(),True)]\n",
    "    )"
   ]
  },
  {
   "cell_type": "code",
   "execution_count": 5,
   "id": "7ee3e7d4",
   "metadata": {},
   "outputs": [
    {
     "name": "stderr",
     "output_type": "stream",
     "text": [
      "\r",
      "[Stage 0:>                                                          (0 + 1) / 1]\r",
      "\r",
      "                                                                                \r"
     ]
    },
    {
     "name": "stdout",
     "output_type": "stream",
     "text": [
      "+-----------------+--------------------+-------------------+-------------------+------------+------------+-------+\n",
      "|hvfhs_license_num|dispatching_base_num|    pickup_datetime|   dropoff_datetime|PULocationID|DOLocationID|SR_Flag|\n",
      "+-----------------+--------------------+-------------------+-------------------+------------+------------+-------+\n",
      "|           HV0003|              B02764|2021-02-01 00:10:40|2021-02-01 00:21:09|          35|          39|   null|\n",
      "|           HV0003|              B02764|2021-02-01 00:27:23|2021-02-01 00:44:01|          39|          35|   null|\n",
      "|           HV0005|              B02510|2021-02-01 00:28:38|2021-02-01 00:38:27|          39|          91|   null|\n",
      "|           HV0005|              B02510|2021-02-01 00:43:37|2021-02-01 01:23:20|          91|         228|   null|\n",
      "|           HV0003|              B02872|2021-02-01 00:08:42|2021-02-01 00:17:57|         126|         250|   null|\n",
      "|           HV0003|              B02872|2021-02-01 00:26:02|2021-02-01 00:42:51|         208|         243|   null|\n",
      "|           HV0003|              B02872|2021-02-01 00:45:50|2021-02-01 01:02:50|         243|         220|   null|\n",
      "|           HV0003|              B02764|2021-02-01 00:06:42|2021-02-01 00:31:50|          49|          37|   null|\n",
      "|           HV0003|              B02764|2021-02-01 00:34:34|2021-02-01 00:58:13|          37|          76|   null|\n",
      "|           HV0005|              B02510|2021-02-01 00:03:43|2021-02-01 00:39:37|          80|         241|   null|\n",
      "|           HV0005|              B02510|2021-02-01 00:55:36|2021-02-01 01:08:39|         174|          51|   null|\n",
      "|           HV0005|              B02510|2021-02-01 00:06:13|2021-02-01 00:33:45|         235|         129|   null|\n",
      "|           HV0005|              B02510|2021-02-01 00:42:24|2021-02-01 01:11:31|         129|         169|   null|\n",
      "|           HV0003|              B02764|2021-02-01 00:07:05|2021-02-01 00:20:53|         226|          82|   null|\n",
      "|           HV0003|              B02764|2021-02-01 00:28:56|2021-02-01 00:33:59|          82|         129|   null|\n",
      "|           HV0003|              B02764|2021-02-01 00:44:53|2021-02-01 01:07:54|           7|          79|   null|\n",
      "|           HV0003|              B02888|2021-02-01 00:17:55|2021-02-01 00:34:41|           4|         170|   null|\n",
      "|           HV0003|              B02888|2021-02-01 00:38:14|2021-02-01 00:59:20|         164|          42|   null|\n",
      "|           HV0004|              B02800|2021-02-01 00:08:04|2021-02-01 00:24:41|         237|           4|   null|\n",
      "|           HV0004|              B02800|2021-02-01 00:30:44|2021-02-01 00:41:26|         107|          45|   null|\n",
      "+-----------------+--------------------+-------------------+-------------------+------------+------------+-------+\n",
      "only showing top 20 rows\n",
      "\n"
     ]
    }
   ],
   "source": [
    "df = spark.read.option(\"header\", \"true\").schema(schema).csv(path + 'raw/fhvhv_tripdata_2021-02.csv')\n",
    "\n",
    "df.show()"
   ]
  },
  {
   "cell_type": "code",
   "execution_count": 6,
   "id": "03c2a659",
   "metadata": {},
   "outputs": [
    {
     "name": "stderr",
     "output_type": "stream",
     "text": [
      "                                                                                \r"
     ]
    }
   ],
   "source": [
    "df.repartition(24).write.parquet(path + 'pq/fhvhv_tripdata_2021-02/')"
   ]
  },
  {
   "cell_type": "code",
   "execution_count": 5,
   "id": "af861fa5",
   "metadata": {},
   "outputs": [
    {
     "name": "stderr",
     "output_type": "stream",
     "text": [
      "                                                                                \r"
     ]
    }
   ],
   "source": [
    "data = spark.read.parquet(path + 'pq/fhvhv_tripdata_2021-02/')"
   ]
  },
  {
   "cell_type": "code",
   "execution_count": 6,
   "id": "46425983",
   "metadata": {},
   "outputs": [
    {
     "name": "stderr",
     "output_type": "stream",
     "text": [
      "\r",
      "[Stage 1:>                                                          (0 + 1) / 1]\r",
      "\r",
      "                                                                                \r"
     ]
    },
    {
     "name": "stdout",
     "output_type": "stream",
     "text": [
      "+-----------------+--------------------+-------------------+-------------------+------------+------------+-------+\n",
      "|hvfhs_license_num|dispatching_base_num|    pickup_datetime|   dropoff_datetime|PULocationID|DOLocationID|SR_Flag|\n",
      "+-----------------+--------------------+-------------------+-------------------+------------+------------+-------+\n",
      "|           HV0003|              B02887|2021-02-06 01:18:35|2021-02-06 01:40:34|         163|         235|   null|\n",
      "|           HV0005|              B02510|2021-02-05 07:13:06|2021-02-05 07:31:56|         225|         181|   null|\n",
      "|           HV0003|              B02869|2021-02-04 16:56:52|2021-02-04 17:21:36|         260|          95|   null|\n",
      "|           HV0003|              B02871|2021-02-03 18:34:17|2021-02-03 18:57:12|         235|          60|   null|\n",
      "|           HV0003|              B02869|2021-02-04 07:25:09|2021-02-04 07:30:34|          55|          55|   null|\n",
      "|           HV0003|              B02836|2021-02-04 23:15:27|2021-02-04 23:34:29|          74|          81|   null|\n",
      "|           HV0003|              B02882|2021-02-05 07:45:49|2021-02-05 08:05:03|         239|         231|   null|\n",
      "|           HV0003|              B02887|2021-02-03 17:33:59|2021-02-03 17:47:14|          95|         196|   null|\n",
      "|           HV0003|              B02877|2021-02-03 09:33:06|2021-02-03 09:45:59|         241|         265|   null|\n",
      "|           HV0003|              B02872|2021-02-02 12:58:46|2021-02-02 13:06:20|          90|         137|   null|\n",
      "|           HV0003|              B02764|2021-02-05 22:25:20|2021-02-05 22:28:27|           7|           7|   null|\n",
      "|           HV0003|              B02882|2021-02-04 19:57:44|2021-02-04 20:05:24|         231|         246|   null|\n",
      "|           HV0003|              B02764|2021-02-02 08:43:57|2021-02-02 08:53:46|         108|          29|   null|\n",
      "|           HV0003|              B02866|2021-02-04 05:51:50|2021-02-04 06:21:25|          11|         112|   null|\n",
      "|           HV0003|              B02882|2021-02-05 16:13:02|2021-02-05 16:27:48|         229|         234|   null|\n",
      "|           HV0005|              B02510|2021-02-04 17:15:28|2021-02-04 17:24:46|          10|         218|   null|\n",
      "|           HV0003|              B02617|2021-02-04 09:59:58|2021-02-04 10:29:13|          49|         232|   null|\n",
      "|           HV0005|              B02510|2021-02-05 23:34:27|2021-02-05 23:51:05|         125|          17|   null|\n",
      "|           HV0003|              B02875|2021-02-05 20:52:58|2021-02-05 21:19:59|          47|          68|   null|\n",
      "|           HV0003|              B02875|2021-02-04 18:11:00|2021-02-04 18:37:24|          41|         223|   null|\n",
      "+-----------------+--------------------+-------------------+-------------------+------------+------------+-------+\n",
      "only showing top 20 rows\n",
      "\n"
     ]
    }
   ],
   "source": [
    "data.show()"
   ]
  },
  {
   "cell_type": "code",
   "execution_count": 7,
   "id": "46a78bc9",
   "metadata": {},
   "outputs": [],
   "source": [
    "data.registerTempTable('fhl_data')"
   ]
  },
  {
   "cell_type": "code",
   "execution_count": 8,
   "id": "1da18791",
   "metadata": {},
   "outputs": [],
   "source": [
    "df_feb_count = spark.sql(\"\"\"\n",
    "\n",
    "SELECT\n",
    "   DATE(pickup_datetime) AS date,\n",
    "   COUNT(1)\n",
    "FROM\n",
    "   fhl_data\n",
    "GROUP BY\n",
    "   1\n",
    "HAVING\n",
    "   date = '2021-02-15'\n",
    "\n",
    "\"\"\")"
   ]
  },
  {
   "cell_type": "code",
   "execution_count": 9,
   "id": "5ffb3354",
   "metadata": {},
   "outputs": [
    {
     "name": "stderr",
     "output_type": "stream",
     "text": [
      "                                                                                \r"
     ]
    },
    {
     "name": "stdout",
     "output_type": "stream",
     "text": [
      "+----------+--------+\n",
      "|      date|count(1)|\n",
      "+----------+--------+\n",
      "|2021-02-15|  367170|\n",
      "+----------+--------+\n",
      "\n"
     ]
    }
   ],
   "source": [
    "df_feb_count.show()"
   ]
  },
  {
   "cell_type": "code",
   "execution_count": null,
   "id": "63980802",
   "metadata": {},
   "outputs": [],
   "source": []
  },
  {
   "cell_type": "code",
   "execution_count": 10,
   "id": "eb5b56d3",
   "metadata": {},
   "outputs": [],
   "source": [
    "df_feb_duration = spark.sql(\"\"\"\n",
    "\n",
    "SELECT\n",
    "   DATE(pickup_datetime) AS date,\n",
    "   (bigint(to_timestamp(dropoff_datetime))) - (bigint(to_timestamp(pickup_datetime))) as time_diff\n",
    "FROM\n",
    "   fhl_data\n",
    "ORDER BY\n",
    "   time_diff DESC\n",
    "LIMIT 1\n",
    "\n",
    "\"\"\")"
   ]
  },
  {
   "cell_type": "code",
   "execution_count": 11,
   "id": "8da485a6",
   "metadata": {},
   "outputs": [
    {
     "name": "stderr",
     "output_type": "stream",
     "text": [
      "[Stage 12:==============>                                           (1 + 3) / 4]\r"
     ]
    },
    {
     "name": "stdout",
     "output_type": "stream",
     "text": [
      "+----------+---------+\n",
      "|      date|time_diff|\n",
      "+----------+---------+\n",
      "|2021-02-11|    75540|\n",
      "+----------+---------+\n",
      "\n"
     ]
    },
    {
     "name": "stderr",
     "output_type": "stream",
     "text": [
      "\r",
      "                                                                                \r"
     ]
    }
   ],
   "source": [
    "df_feb_duration.show()"
   ]
  },
  {
   "cell_type": "code",
   "execution_count": 12,
   "id": "0a8c0bda",
   "metadata": {},
   "outputs": [],
   "source": [
    "df_feb_dispatching_base_num = spark.sql(\"\"\"\n",
    "\n",
    "SELECT\n",
    "   dispatching_base_num,\n",
    "   COUNT(1) AS frequency\n",
    "FROM\n",
    "   fhl_data\n",
    "GROUP BY\n",
    "   1\n",
    "ORDER BY\n",
    "   frequency DESC\n",
    "LIMIT 1\n",
    "   \n",
    "\n",
    "\n",
    "\"\"\")"
   ]
  },
  {
   "cell_type": "code",
   "execution_count": 13,
   "id": "d883a472",
   "metadata": {},
   "outputs": [
    {
     "name": "stderr",
     "output_type": "stream",
     "text": [
      "[Stage 15:=======================================>              (148 + 4) / 200]\r"
     ]
    },
    {
     "name": "stdout",
     "output_type": "stream",
     "text": [
      "+--------------------+---------+\n",
      "|dispatching_base_num|frequency|\n",
      "+--------------------+---------+\n",
      "|              B02510|  3233664|\n",
      "+--------------------+---------+\n",
      "\n"
     ]
    },
    {
     "name": "stderr",
     "output_type": "stream",
     "text": [
      "\r",
      "                                                                                \r"
     ]
    }
   ],
   "source": [
    "df_feb_dispatching_base_num.show()"
   ]
  },
  {
   "cell_type": "code",
   "execution_count": 15,
   "id": "3cefbde0",
   "metadata": {},
   "outputs": [],
   "source": [
    "zone = spark.read.parquet('/home/mide/data-analytical-engineering/week_5/data/zone/')"
   ]
  },
  {
   "cell_type": "code",
   "execution_count": 16,
   "id": "87991d59",
   "metadata": {},
   "outputs": [],
   "source": [
    "zone.registerTempTable('zone')"
   ]
  },
  {
   "cell_type": "code",
   "execution_count": 17,
   "id": "a983f1c1",
   "metadata": {},
   "outputs": [
    {
     "name": "stdout",
     "output_type": "stream",
     "text": [
      "+----------+-------------+--------------------+------------+\n",
      "|LocationID|      Borough|                Zone|service_zone|\n",
      "+----------+-------------+--------------------+------------+\n",
      "|         1|          EWR|      Newark Airport|         EWR|\n",
      "|         2|       Queens|         Jamaica Bay|   Boro Zone|\n",
      "|         3|        Bronx|Allerton/Pelham G...|   Boro Zone|\n",
      "|         4|    Manhattan|       Alphabet City| Yellow Zone|\n",
      "|         5|Staten Island|       Arden Heights|   Boro Zone|\n",
      "|         6|Staten Island|Arrochar/Fort Wad...|   Boro Zone|\n",
      "|         7|       Queens|             Astoria|   Boro Zone|\n",
      "|         8|       Queens|        Astoria Park|   Boro Zone|\n",
      "|         9|       Queens|          Auburndale|   Boro Zone|\n",
      "|        10|       Queens|        Baisley Park|   Boro Zone|\n",
      "|        11|     Brooklyn|          Bath Beach|   Boro Zone|\n",
      "|        12|    Manhattan|        Battery Park| Yellow Zone|\n",
      "|        13|    Manhattan|   Battery Park City| Yellow Zone|\n",
      "|        14|     Brooklyn|           Bay Ridge|   Boro Zone|\n",
      "|        15|       Queens|Bay Terrace/Fort ...|   Boro Zone|\n",
      "|        16|       Queens|             Bayside|   Boro Zone|\n",
      "|        17|     Brooklyn|             Bedford|   Boro Zone|\n",
      "|        18|        Bronx|        Bedford Park|   Boro Zone|\n",
      "|        19|       Queens|           Bellerose|   Boro Zone|\n",
      "|        20|        Bronx|             Belmont|   Boro Zone|\n",
      "+----------+-------------+--------------------+------------+\n",
      "only showing top 20 rows\n",
      "\n"
     ]
    }
   ],
   "source": [
    "zone.show()"
   ]
  },
  {
   "cell_type": "code",
   "execution_count": 42,
   "id": "405420de",
   "metadata": {},
   "outputs": [],
   "source": [
    "pu_join = data.join(zone, data.PULocationID == zone.LocationID).drop('pickup_datetime', 'dropoff_datetime','SR_Flag','dispatching_base_num','Borough','service_zone','hvfhs_license_num')"
   ]
  },
  {
   "cell_type": "code",
   "execution_count": 43,
   "id": "b22ab053",
   "metadata": {},
   "outputs": [],
   "source": [
    "pu_join = pu_join.withColumnRenamed('Zone', 'pu_zone')\n"
   ]
  },
  {
   "cell_type": "code",
   "execution_count": 44,
   "id": "33459c04",
   "metadata": {},
   "outputs": [
    {
     "name": "stdout",
     "output_type": "stream",
     "text": [
      "+------------+------------+----------+--------------------+\n",
      "|PULocationID|DOLocationID|LocationID|             pu_zone|\n",
      "+------------+------------+----------+--------------------+\n",
      "|         163|         235|       163|       Midtown North|\n",
      "|         225|         181|       225|  Stuyvesant Heights|\n",
      "|         260|          95|       260|            Woodside|\n",
      "|         235|          60|       235|University Height...|\n",
      "|          55|          55|        55|        Coney Island|\n",
      "|          74|          81|        74|   East Harlem North|\n",
      "|         239|         231|       239|Upper West Side S...|\n",
      "|          95|         196|        95|        Forest Hills|\n",
      "|         241|         265|       241|Van Cortlandt Vil...|\n",
      "|          90|         137|        90|            Flatiron|\n",
      "|           7|           7|         7|             Astoria|\n",
      "|         231|         246|       231|TriBeCa/Civic Center|\n",
      "|         108|          29|       108|           Gravesend|\n",
      "|          11|         112|        11|          Bath Beach|\n",
      "|         229|         234|       229|Sutton Place/Turt...|\n",
      "|          10|         218|        10|        Baisley Park|\n",
      "|          49|         232|        49|        Clinton Hill|\n",
      "|         125|          17|       125|           Hudson Sq|\n",
      "|          47|          68|        47|  Claremont/Bathgate|\n",
      "|          41|         223|        41|      Central Harlem|\n",
      "+------------+------------+----------+--------------------+\n",
      "only showing top 20 rows\n",
      "\n"
     ]
    }
   ],
   "source": [
    "pu_join.show()"
   ]
  },
  {
   "cell_type": "code",
   "execution_count": 45,
   "id": "7bc0006d",
   "metadata": {},
   "outputs": [
    {
     "name": "stdout",
     "output_type": "stream",
     "text": [
      "+----------+-------------+--------------------+------------+\n",
      "|LocationID|      Borough|                Zone|service_zone|\n",
      "+----------+-------------+--------------------+------------+\n",
      "|         1|          EWR|      Newark Airport|         EWR|\n",
      "|         2|       Queens|         Jamaica Bay|   Boro Zone|\n",
      "|         3|        Bronx|Allerton/Pelham G...|   Boro Zone|\n",
      "|         4|    Manhattan|       Alphabet City| Yellow Zone|\n",
      "|         5|Staten Island|       Arden Heights|   Boro Zone|\n",
      "|         6|Staten Island|Arrochar/Fort Wad...|   Boro Zone|\n",
      "|         7|       Queens|             Astoria|   Boro Zone|\n",
      "|         8|       Queens|        Astoria Park|   Boro Zone|\n",
      "|         9|       Queens|          Auburndale|   Boro Zone|\n",
      "|        10|       Queens|        Baisley Park|   Boro Zone|\n",
      "|        11|     Brooklyn|          Bath Beach|   Boro Zone|\n",
      "|        12|    Manhattan|        Battery Park| Yellow Zone|\n",
      "|        13|    Manhattan|   Battery Park City| Yellow Zone|\n",
      "|        14|     Brooklyn|           Bay Ridge|   Boro Zone|\n",
      "|        15|       Queens|Bay Terrace/Fort ...|   Boro Zone|\n",
      "|        16|       Queens|             Bayside|   Boro Zone|\n",
      "|        17|     Brooklyn|             Bedford|   Boro Zone|\n",
      "|        18|        Bronx|        Bedford Park|   Boro Zone|\n",
      "|        19|       Queens|           Bellerose|   Boro Zone|\n",
      "|        20|        Bronx|             Belmont|   Boro Zone|\n",
      "+----------+-------------+--------------------+------------+\n",
      "only showing top 20 rows\n",
      "\n"
     ]
    }
   ],
   "source": [
    "zone.show()"
   ]
  },
  {
   "cell_type": "code",
   "execution_count": 46,
   "id": "65aee8f4",
   "metadata": {},
   "outputs": [],
   "source": [
    "du_join = pu_join.join(zone,pu_join.DOLocationID == zone.LocationID).drop('service_zone','hvfhs_license_num')"
   ]
  },
  {
   "cell_type": "code",
   "execution_count": 47,
   "id": "fea74417",
   "metadata": {},
   "outputs": [
    {
     "name": "stdout",
     "output_type": "stream",
     "text": [
      "+------------+------------+----------+------------+----------+-------------+--------------------+\n",
      "|PULocationID|DOLocationID|LocationID|     pu_zone|LocationID|      Borough|                Zone|\n",
      "+------------+------------+----------+------------+----------+-------------+--------------------+\n",
      "|          55|          55|        55|Coney Island|         1|          EWR|      Newark Airport|\n",
      "|          55|          55|        55|Coney Island|         2|       Queens|         Jamaica Bay|\n",
      "|          55|          55|        55|Coney Island|         3|        Bronx|Allerton/Pelham G...|\n",
      "|          55|          55|        55|Coney Island|         4|    Manhattan|       Alphabet City|\n",
      "|          55|          55|        55|Coney Island|         5|Staten Island|       Arden Heights|\n",
      "|          55|          55|        55|Coney Island|         6|Staten Island|Arrochar/Fort Wad...|\n",
      "|          55|          55|        55|Coney Island|         7|       Queens|             Astoria|\n",
      "|          55|          55|        55|Coney Island|         8|       Queens|        Astoria Park|\n",
      "|          55|          55|        55|Coney Island|         9|       Queens|          Auburndale|\n",
      "|          55|          55|        55|Coney Island|        10|       Queens|        Baisley Park|\n",
      "|          55|          55|        55|Coney Island|        11|     Brooklyn|          Bath Beach|\n",
      "|          55|          55|        55|Coney Island|        12|    Manhattan|        Battery Park|\n",
      "|          55|          55|        55|Coney Island|        13|    Manhattan|   Battery Park City|\n",
      "|          55|          55|        55|Coney Island|        14|     Brooklyn|           Bay Ridge|\n",
      "|          55|          55|        55|Coney Island|        15|       Queens|Bay Terrace/Fort ...|\n",
      "|          55|          55|        55|Coney Island|        16|       Queens|             Bayside|\n",
      "|          55|          55|        55|Coney Island|        17|     Brooklyn|             Bedford|\n",
      "|          55|          55|        55|Coney Island|        18|        Bronx|        Bedford Park|\n",
      "|          55|          55|        55|Coney Island|        19|       Queens|           Bellerose|\n",
      "|          55|          55|        55|Coney Island|        20|        Bronx|             Belmont|\n",
      "+------------+------------+----------+------------+----------+-------------+--------------------+\n",
      "only showing top 20 rows\n",
      "\n"
     ]
    }
   ],
   "source": [
    "du_join.show()"
   ]
  },
  {
   "cell_type": "code",
   "execution_count": 49,
   "id": "2d2409d3",
   "metadata": {},
   "outputs": [],
   "source": [
    "play = du_join.select('pu_zone','Zone')"
   ]
  },
  {
   "cell_type": "code",
   "execution_count": 50,
   "id": "f9b8ed5a",
   "metadata": {},
   "outputs": [
    {
     "name": "stdout",
     "output_type": "stream",
     "text": [
      "+------------+--------------------+\n",
      "|     pu_zone|                Zone|\n",
      "+------------+--------------------+\n",
      "|Coney Island|      Newark Airport|\n",
      "|Coney Island|         Jamaica Bay|\n",
      "|Coney Island|Allerton/Pelham G...|\n",
      "|Coney Island|       Alphabet City|\n",
      "|Coney Island|       Arden Heights|\n",
      "|Coney Island|Arrochar/Fort Wad...|\n",
      "|Coney Island|             Astoria|\n",
      "|Coney Island|        Astoria Park|\n",
      "|Coney Island|          Auburndale|\n",
      "|Coney Island|        Baisley Park|\n",
      "|Coney Island|          Bath Beach|\n",
      "|Coney Island|        Battery Park|\n",
      "|Coney Island|   Battery Park City|\n",
      "|Coney Island|           Bay Ridge|\n",
      "|Coney Island|Bay Terrace/Fort ...|\n",
      "|Coney Island|             Bayside|\n",
      "|Coney Island|             Bedford|\n",
      "|Coney Island|        Bedford Park|\n",
      "|Coney Island|           Bellerose|\n",
      "|Coney Island|             Belmont|\n",
      "+------------+--------------------+\n",
      "only showing top 20 rows\n",
      "\n"
     ]
    }
   ],
   "source": [
    "play.show()"
   ]
  },
  {
   "cell_type": "code",
   "execution_count": 51,
   "id": "e0d8dd03",
   "metadata": {},
   "outputs": [],
   "source": [
    "play.registerTempTable('play')"
   ]
  },
  {
   "cell_type": "code",
   "execution_count": 65,
   "id": "4d2187cd",
   "metadata": {},
   "outputs": [],
   "source": [
    "df_df_pu = spark.sql(\"\"\"\n",
    "\n",
    "SELECT \n",
    "    CONCAT(CAST(pu_zone AS VARCHAR(50)), '/', CAST(Zone AS VARCHAR(50))) AS pickup_dropoff,\n",
    "    COUNT(*) AS rides\n",
    "FROM\n",
    "    play\n",
    "GROUP BY\n",
    "    pickup_dropoff\n",
    "ORDER BY\n",
    "    rides DESC\n",
    "\n",
    "    \n",
    "\n",
    "\"\"\")"
   ]
  },
  {
   "cell_type": "code",
   "execution_count": 66,
   "id": "54b155c9",
   "metadata": {},
   "outputs": [
    {
     "name": "stderr",
     "output_type": "stream",
     "text": [
      "[Stage 62:============================================>         (166 + 5) / 200]\r"
     ]
    },
    {
     "name": "stdout",
     "output_type": "stream",
     "text": [
      "+--------------------+------+\n",
      "|      pickup_dropoff| rides|\n",
      "+--------------------+------+\n",
      "|East New York/Gov...|135123|\n",
      "|Borough Park/Gove...|111987|\n",
      "|East New York/Corona| 90082|\n",
      "|Canarsie/Governor...| 84078|\n",
      "|Crown Heights Nor...| 77928|\n",
      "| Borough Park/Corona| 74658|\n",
      "|     Canarsie/Corona| 56052|\n",
      "|Bay Ridge/Governo...| 53802|\n",
      "|Crown Heights Nor...| 51952|\n",
      "|East New York/Uni...| 45041|\n",
      "|East New York/Cen...| 45041|\n",
      "|East New York/Lon...| 45041|\n",
      "|East New York/Spr...| 45041|\n",
      "|East New York/Red...| 45041|\n",
      "|East New York/Rid...| 45041|\n",
      "|East New York/Mid...| 45041|\n",
      "|East New York/Wil...| 45041|\n",
      "|East New York/Wes...| 45041|\n",
      "|East New York/Gre...| 45041|\n",
      "|East New York/Cro...| 45041|\n",
      "+--------------------+------+\n",
      "only showing top 20 rows\n",
      "\n"
     ]
    },
    {
     "name": "stderr",
     "output_type": "stream",
     "text": [
      "\r",
      "                                                                                \r"
     ]
    }
   ],
   "source": [
    "df_df_pu.show()"
   ]
  },
  {
   "cell_type": "code",
   "execution_count": null,
   "id": "cc1f6e95",
   "metadata": {},
   "outputs": [],
   "source": []
  }
 ],
 "metadata": {
  "kernelspec": {
   "display_name": "Python 3 (ipykernel)",
   "language": "python",
   "name": "python3"
  },
  "language_info": {
   "codemirror_mode": {
    "name": "ipython",
    "version": 3
   },
   "file_extension": ".py",
   "mimetype": "text/x-python",
   "name": "python",
   "nbconvert_exporter": "python",
   "pygments_lexer": "ipython3",
   "version": "3.9.7"
  }
 },
 "nbformat": 4,
 "nbformat_minor": 5
}
